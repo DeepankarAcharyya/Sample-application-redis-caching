{
 "cells": [
  {
   "cell_type": "code",
   "execution_count": 1,
   "id": "6b674338",
   "metadata": {},
   "outputs": [],
   "source": [
    "import redis"
   ]
  },
  {
   "cell_type": "code",
   "execution_count": 2,
   "id": "96a26531",
   "metadata": {},
   "outputs": [],
   "source": [
    "redis_host=\"localhost\"\n",
    "redis_port=6380\n",
    "redis_password=\"whatsmyname\""
   ]
  },
  {
   "cell_type": "code",
   "execution_count": 4,
   "id": "2238f583",
   "metadata": {},
   "outputs": [],
   "source": [
    "def connect(db):\n",
    "    try:\n",
    "        r = redis.StrictRedis(host=redis_host,db=db, port=redis_port, password=redis_password, decode_responses=True)\n",
    "        r.set(\"msg:hello\",\"Hello Redis!!!\")\n",
    "        msg = r.get(\"msg:hello\")\n",
    "        print(msg)\n",
    "    except Exception as e:\n",
    "        print(e)"
   ]
  },
  {
   "cell_type": "code",
   "execution_count": null,
   "id": "c1a3008b",
   "metadata": {},
   "outputs": [],
   "source": []
  }
 ],
 "metadata": {
  "kernelspec": {
   "display_name": "Python 3 (ipykernel)",
   "language": "python",
   "name": "python3"
  },
  "language_info": {
   "codemirror_mode": {
    "name": "ipython",
    "version": 3
   },
   "file_extension": ".py",
   "mimetype": "text/x-python",
   "name": "python",
   "nbconvert_exporter": "python",
   "pygments_lexer": "ipython3",
   "version": "3.8.10"
  }
 },
 "nbformat": 4,
 "nbformat_minor": 5
}
